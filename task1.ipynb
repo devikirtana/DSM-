{
 "cells": [
  {
   "cell_type": "markdown",
   "id": "83b1d2fd-0976-4a82-8878-f164725f4f53",
   "metadata": {},
   "source": [
    "# Qn 1"
   ]
  },
  {
   "cell_type": "code",
   "execution_count": 1,
   "id": "6b733849-2beb-40df-b26c-243f9167a5ae",
   "metadata": {},
   "outputs": [],
   "source": [
    "\n",
    "def test(*args):\n",
    "    l=[]\n",
    "    for i in args:\n",
    "        if type(i)==int:\n",
    "                l.append(i)\n",
    "                \n",
    "    \n",
    "    return l"
   ]
  },
  {
   "cell_type": "code",
   "execution_count": 2,
   "id": "ba74e7be-b627-4b8b-9a5f-76eb44c62df5",
   "metadata": {},
   "outputs": [],
   "source": [
    "list=[1,2,3,4, [44,55,66, True], False, (34,56,78,89,34), {1,2,3,3,2,1}, {1:34, \"key2\": [55, 67, 78, 89], 4: (45,\n",
    "22, 61, 34)}, [56, 'data science'], 'Machine Learning']"
   ]
  },
  {
   "cell_type": "code",
   "execution_count": 3,
   "id": "f15facd0-775e-4fec-8a0f-f1f303ec2a04",
   "metadata": {},
   "outputs": [
    {
     "data": {
      "text/plain": [
       "[]"
      ]
     },
     "execution_count": 3,
     "metadata": {},
     "output_type": "execute_result"
    }
   ],
   "source": [
    "test(list)"
   ]
  },
  {
   "cell_type": "code",
   "execution_count": null,
   "id": "a2afbfad-b18c-4c8a-add2-59371b84fe2f",
   "metadata": {},
   "outputs": [],
   "source": []
  },
  {
   "cell_type": "markdown",
   "id": "3e2dceec-f0e3-4df7-be3d-edc3205cc4b8",
   "metadata": {},
   "source": [
    "# Qn 2"
   ]
  },
  {
   "cell_type": "code",
   "execution_count": 23,
   "id": "6ce8b668-10de-446d-8d58-f36df96a46e1",
   "metadata": {},
   "outputs": [
    {
     "data": {
      "text/plain": [
       "'i$wznt$to$yexome$z$dztz$sxientist.'"
      ]
     },
     "execution_count": 23,
     "metadata": {},
     "output_type": "execute_result"
    }
   ],
   "source": [
    "a=\"I want to become a Data Scientist.\"\n",
    "a.lower().replace(\"a\",\"z\").replace(\"b\",\"y\").replace(\"c\",\"x\").replace(\" \",\"$\")\n",
    "\n",
    "\n"
   ]
  },
  {
   "cell_type": "code",
   "execution_count": null,
   "id": "f4af2192-11c9-4e83-ae2f-ec17706afb87",
   "metadata": {},
   "outputs": [],
   "source": []
  }
 ],
 "metadata": {
  "kernelspec": {
   "display_name": "Python 3 (ipykernel)",
   "language": "python",
   "name": "python3"
  },
  "language_info": {
   "codemirror_mode": {
    "name": "ipython",
    "version": 3
   },
   "file_extension": ".py",
   "mimetype": "text/x-python",
   "name": "python",
   "nbconvert_exporter": "python",
   "pygments_lexer": "ipython3",
   "version": "3.10.8"
  }
 },
 "nbformat": 4,
 "nbformat_minor": 5
}
